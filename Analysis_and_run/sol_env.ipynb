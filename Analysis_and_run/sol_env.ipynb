version https://git-lfs.github.com/spec/v1
oid sha256:902c8ed77ea585ed84e4f480f4c1c36e2dd07e50c7191e445c5148034dcf32f3
size 6183
